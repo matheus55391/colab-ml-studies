{
  "cells": [
    {
      "cell_type": "markdown",
      "metadata": {
        "id": "view-in-github",
        "colab_type": "text"
      },
      "source": [
        "<a href=\"https://colab.research.google.com/github/matheus55391/colab-ml-studies/blob/main/spellcheck_textblob.ipynb\" target=\"_parent\"><img src=\"https://colab.research.google.com/assets/colab-badge.svg\" alt=\"Open In Colab\"/></a>"
      ]
    },
    {
      "cell_type": "code",
      "execution_count": null,
      "metadata": {
        "id": "aHKb2kKorDll"
      },
      "outputs": [],
      "source": [
        "from textblob import TextBlob\n",
        "import nltk"
      ]
    },
    {
      "cell_type": "code",
      "execution_count": null,
      "metadata": {
        "colab": {
          "base_uri": "https://localhost:8080/"
        },
        "id": "8-l6MQD6rw6P",
        "outputId": "9b101cd8-ed95-49b9-f4e8-765d9515290c"
      },
      "outputs": [
        {
          "name": "stderr",
          "output_type": "stream",
          "text": [
            "[nltk_data] Downloading package punkt to /root/nltk_data...\n",
            "[nltk_data]   Unzipping tokenizers/punkt.zip.\n",
            "[nltk_data] Downloading package wordnet to /root/nltk_data...\n",
            "[nltk_data] Downloading package averaged_perceptron_tagger to\n",
            "[nltk_data]     /root/nltk_data...\n",
            "[nltk_data]   Unzipping taggers/averaged_perceptron_tagger.zip.\n",
            "[nltk_data] Downloading package brown to /root/nltk_data...\n",
            "[nltk_data]   Unzipping corpora/brown.zip.\n"
          ]
        },
        {
          "data": {
            "text/plain": [
              "True"
            ]
          },
          "execution_count": 2,
          "metadata": {},
          "output_type": "execute_result"
        }
      ],
      "source": [
        "nltk.download('punkt')\n",
        "nltk.download('wordnet')\n",
        "nltk.download('averaged_perceptron_tagger')\n",
        "nltk.download('brown')"
      ]
    },
    {
      "cell_type": "code",
      "execution_count": null,
      "metadata": {
        "id": "Gp9wGGP_22gs"
      },
      "outputs": [],
      "source": [
        "def spellcheck_and_suggest(sentence):\n",
        "    blob = TextBlob(sentence)\n",
        "    corrected_sentence = blob.correct()\n",
        "    corrections = {}\n",
        "\n",
        "    for word, corrected_word in zip(blob.words, corrected_sentence.words):\n",
        "        if word != corrected_word:\n",
        "            corrections[word] = corrected_word\n",
        "\n",
        "    return corrected_sentence, corrections"
      ]
    },
    {
      "cell_type": "code",
      "execution_count": null,
      "metadata": {
        "colab": {
          "base_uri": "https://localhost:8080/"
        },
        "id": "uExT_8KA25om",
        "outputId": "11a9b316-8fd2-41b6-ae72-17ee8a4de191"
      },
      "outputs": [
        {
          "name": "stdout",
          "output_type": "stream",
          "text": [
            "Frase original: This is an exmple sentence with some erors.\n",
            "Frase corrigida: His is an example sentence with some errors.\n",
            "Correções sugeridas: {'This': 'His', 'exmple': 'example', 'erors': 'errors'}\n"
          ]
        }
      ],
      "source": [
        "# Exemplo de uso\n",
        "sentence = \"This is an exmple sentence with some erors.\"\n",
        "corrected_sentence, corrections = spellcheck_and_suggest(sentence)\n",
        "\n",
        "print(\"Frase original:\", sentence)\n",
        "print(\"Frase corrigida:\", corrected_sentence)\n",
        "print(\"Correções sugeridas:\", corrections)"
      ]
    },
    {
      "cell_type": "code",
      "execution_count": null,
      "metadata": {
        "colab": {
          "background_save": true,
          "base_uri": "https://localhost:8080/"
        },
        "id": "rYBiKV0U32af",
        "outputId": "3047543d-edc5-4700-e345-5f175e4350be"
      },
      "outputs": [
        {
          "name": "stdout",
          "output_type": "stream",
          "text": [
            "\n",
            "Frase original: helo my name i Matheus\n",
            "Frase corrigida: held my name i Fathers\n",
            "Correções sugeridas: {'helo': 'held', 'Matheus': 'Fathers'}\n",
            "\n",
            "----------------------------------------\n",
            "\n"
          ]
        }
      ],
      "source": [
        "# Loop infinito para entrada do usuário\n",
        "while True:\n",
        "    # Receber a entrada do usuário\n",
        "    sentence = input(\"Digite uma frase (ou 'sair' para encerrar): \")\n",
        "\n",
        "    # Condição para sair do loop\n",
        "    if sentence.lower() == 'sair':\n",
        "        print(\"Encerrando o programa.\")\n",
        "        break\n",
        "\n",
        "    # Obter correções\n",
        "    corrected_sentence, corrections = spellcheck_and_suggest(sentence)\n",
        "\n",
        "    # Exibir resultados\n",
        "    print(\"\\nFrase original:\", sentence)\n",
        "    print(\"Frase corrigida:\", corrected_sentence)\n",
        "    print(\"Correções sugeridas:\", corrections)\n",
        "    print(\"\\n\" + \"-\"*40 + \"\\n\")"
      ]
    }
  ],
  "metadata": {
    "colab": {
      "provenance": [],
      "include_colab_link": true
    },
    "kernelspec": {
      "display_name": "Python 3",
      "name": "python3"
    },
    "language_info": {
      "name": "python"
    }
  },
  "nbformat": 4,
  "nbformat_minor": 0
}